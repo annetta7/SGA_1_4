{
  "cells": [
    {
      "cell_type": "markdown",
      "metadata": {
        "id": "view-in-github",
        "colab_type": "text"
      },
      "source": [
        "<a href=\"https://colab.research.google.com/github/annetta7/SGA_1_4/blob/main/ANITA_M_WK_3_ASSIGNMENT_.ipynb\" target=\"_parent\"><img src=\"https://colab.research.google.com/assets/colab-badge.svg\" alt=\"Open In Colab\"/></a>"
      ]
    },
    {
      "cell_type": "markdown",
      "id": "34712c55",
      "metadata": {
        "id": "34712c55"
      },
      "source": [
        "QUESTION 1:\n",
        "Create a table named “employee” with columns as:\n",
        "a) Employee_id (int): Make it the primary key\n",
        "b)Last_name \n",
        "c)First_name\n",
        "d)Position\n",
        "e)Salary\n",
        "f)date_hired\n"
      ]
    },
    {
      "cell_type": "code",
      "execution_count": 1,
      "id": "939d53dd",
      "metadata": {
        "colab": {
          "base_uri": "https://localhost:8080/"
        },
        "id": "939d53dd",
        "outputId": "9cedee2a-d8fc-418b-ad98-0da34e935bec"
      },
      "outputs": [
        {
          "output_type": "stream",
          "name": "stdout",
          "text": [
            "imported successfully\n",
            "database created\n",
            "cursor created \n",
            " <class 'sqlite3.Cursor'>\n"
          ]
        }
      ],
      "source": [
        "# import sqlite\n",
        "import sqlite3\n",
        "print(\"imported successfully\")\n",
        "\n",
        "# connect to a database\n",
        "conn = sqlite3.connect(\"employee.db\")\n",
        "print(\"database created\")\n",
        "\n",
        "# create cursor object\n",
        "cursor = conn.cursor()\n",
        "print(\"cursor created \\n\",type(cursor))\n"
      ]
    },
    {
      "cell_type": "code",
      "execution_count": 2,
      "id": "9ed53bbf",
      "metadata": {
        "colab": {
          "base_uri": "https://localhost:8080/"
        },
        "id": "9ed53bbf",
        "outputId": "0d5ef652-83a4-4776-c577-98fbd8251da9"
      },
      "outputs": [
        {
          "output_type": "stream",
          "name": "stdout",
          "text": [
            "table created\n"
          ]
        }
      ],
      "source": [
        "# create a table called employee\n",
        "cursor.execute (\"\"\"\n",
        "CREATE TABLE employee(Employee_id int primary key,\n",
        "Last_name text,\n",
        "First_name text,\n",
        "Position text,\n",
        "Salary int,\n",
        "Date_hired int)\n",
        "\"\"\")\n",
        "print(\"table created\")\n"
      ]
    },
    {
      "cell_type": "code",
      "execution_count": 3,
      "id": "b9c177d9",
      "metadata": {
        "colab": {
          "base_uri": "https://localhost:8080/"
        },
        "id": "b9c177d9",
        "outputId": "3ea264ea-80ea-43fc-cbb5-7a50a4e43003"
      },
      "outputs": [
        {
          "output_type": "stream",
          "name": "stdout",
          "text": [
            "i have successfully inserted 62 records to the table.\n"
          ]
        }
      ],
      "source": [
        "# Add multiple rows to the table employee\n",
        "employee_list = [\n",
        "    (1,\"Lew\",\"Allen\",\"City Administrator\",295000,2004),\n",
        "    (2,\"Sessoms\",\"Allen\",\"President\",295000,2008),\n",
        "    (3,\"HENDERSON\",\"KAYATANYA\",\"Superintendent Of Schools\",275000,2007),\n",
        "    (4,\"Lanier\",\"Cathy\",\"Chief\",230743,1990),\n",
        "    (5,\"Arons\",\"Bernard\",\"Medical Officer Psych\",206000,2008),\n",
        "    (6,\"Ritchie\",\"Elspeth\",\"Medical Officer Psych\",206000,2010),\n",
        "    (7,\"GRAY\",\"VINCENT\",\"Mayor\",200000,2005),\n",
        "    (8,\"Marshall\",\"Katherine\",\"Medical Officer Psych\",200000,2008),\n",
        "    (9,\"Gandhi\",\"Natwar\",\"Chief Financial Officer\",199700,1997),\n",
        "    (10,\"DUNCAN\",\"LORETTA\",\"Workers Compensation Recipient\",197808,1984),\n",
        "    (11,\"Baxter\",\"Graeme\",\"Act Provost & Vp Acd Aff\",196257,2008),\n",
        "    (12,\"Miramontes\",\"David\",\"Medical Director\",193125,2011),\n",
        "    (13,\"Graves\",\"Warren\",\"Chief Of Staff\",193125,2011),\n",
        "    (14,\"Stanchfield\",\"Eric\",\"Executive Director\",193125,2007),\n",
        "    (15,\"Jones\",\"Tyler\",\"Medical Officer Psych\",190550,2008),\n",
        "    (16,\"BROWN\",\"KWAME\",\"Chairman\",190000,2005),\n",
        "    (17,\"Eure\",\"Philip\",\"Executive Director\",188692,2000),\n",
        "    (18,\"Cooper\",\"Ginnie\",\"Executive Director\",188044,2006),\n",
        "    (19,\"Yadao\",\"Nilda\",\"Medical Officer (psychiatry)\",188027,1987),\n",
        "    (20,\"Ellerbe\",\"Kenneth\",\"Fire Chief\",187302,2003),\n",
        "    (21,\"Ruland\",\"Jeffrey\",\"Dir Of The Ctr For Wf Str & Ec\",186911,2009),\n",
        "    (22,\"Parker\",\"Craig\",\"General Counsel\",186911,2009),\n",
        "    (23,\"Farley\",\"Mark\",\"Vp Human Resources\",186911,2008),\n",
        "    (24,\"Otero\",\"Beatriz\",\"Dep Mayor For Hlth & Hum Svcs\",185000,2011),\n",
        "    (25,\"Quander\",\"Paul\",\"Deputy Mayor\",185000,2009),\n",
        "    (26,\"Louis\",\"Marie\",\"Chief Medical Examiner\",185000,1985),\n",
        "    (27,\"Pestane\",\"Joseph\",\"Medical Officer (medical Examiner)\",183892,1997),\n",
        "    (28,\"Revercomb\",\"Carolyn\",\"Medical Officer (medical Examiner)\",183892,2005),\n",
        "    (29,\"Morgan\",\"Johnson\",\"Sheila  Chief Investment Officer\",183677,1991),\n",
        "    (30,\"Williamson\",\"Michael\",\"Deputy Director\",182000,2011),\n",
        "    (31,\"White\",\"Mattie\",\"Medical Officer (psychiatry)\",180604,1989),\n",
        "    (32,\"Park\",\"Kyung\",\"Medical Officer (psychiatry)\",180604,1987),\n",
        "    (33,\"Gore\",\"T\",\"Medical Officer (psychiatry)\",172101,2005),\n",
        "    (34,\"LUDWIG\",\"BENJAMIN\",\"Workers Compensation Recipient\",171517,1972),\n",
        "    (35,\"Atdjian\",\"Sylvia\",\"Medical Officer (psychiatry)\",170938,2007),\n",
        "    (36,\"Zaidi\",\"Syed\",\"Medical Officer (psychiatry)\",170344,2005),\n",
        "    (37,\"Sherron\",\"Robert\",\"Medical Officer (psychiatry)\",170344,1991),\n",
        "    (38,\"Johnson\",\"Nicole\",\"Medical Officer (psychiatry)\",170344,2007),\n",
        "    (39,\"RUDA\",\"LISA\",\"Chief Of Staff\",170000,2007),\n",
        "    (40,\"Beers\",\"Nathaniel\",\"Deputy Superintendent\",170000,2007),\n",
        "    (41,\"Nuss\",\"Laura\",\"Director\",170000,2007),\n",
        "    (42,\"Mancini\",\"Robert\",\"Acting Director\",170000,2004),\n",
        "    (43,\"Wicker\",\"Henry\",\"Medical Officer Opthal\",168378,1987),\n",
        "    (44,\"Davenport\",\"Nancy\",\"Administrative Librarian\",167200,2006),\n",
        "    (45,\"Jaji\",\"Abayomi\",\"Medical Officer (psychiatry)\",167062,2000),\n",
        "    (46,\"Stevens\",\"KyleeAnn\",\"Medical Officer (psychiatry)\",167051,2008),\n",
        "    (47,\"Smothers\",\"Kenneth\",\"Medical Officer (psychiatry)\",166995,1987),\n",
        "    (48,\"Akhtar\",\"Saleha\",\"Medical Officer (psychiatry)\",166995,1988),\n",
        "    (49,\"Singh\",\"Anjali\",\"Medical Officer (psychiatry)\",166370,1999),\n",
        "    (50,\"Rahman\",\"Umar\",\"Medical Officer (psychiatry)\",166370,1996),\n",
        "    (51,\"Adewale\",\"Benjamin\",\"Medical Officer (psychiatry)\",166370,1988),\n",
        "    (52,\"Zaidi\",\"Syed\",\"Medical Officer General Practi\",165842,1983),\n",
        "    (53,\"Jackson\",\"Kenneth\",\"Assistant Fire Chief Srvs\",165306,1982),\n",
        "    (54,\"Berns\",\"David\",\"Dir Of Human Services\",165200,2011),\n",
        "    (55,\"Cordi\",\"Stephen\",\"Deputy Cfo Otr\",165162,2008),\n",
        "    (56,\"Mallory\",\"Lisa\",\"Acting Director\",165000,2004),\n",
        "    (57,\"Flowers\",\"Brian\",\"General Counsel\",165000,1985),\n",
        "    (58,\"Bellamy\",\"Terry\",\"Director\",165000,2008),\n",
        "    (59,\"West\",\"Millicent\",\"Director Homeland Sec & Ema\",165000,2003),\n",
        "    (60,\"Pappas\",\"Gregory\",\"Deputy Director\",164800,2011),\n",
        "    (61,\"Altaf\",\"Samia\",\"Supervisor Medical Officer\",164800,2010),\n",
        "    (62,\"Owens\",\"Karen\",\"Dental Officer\",164800,1989)\n",
        "]\n",
        "\n",
        "sql = \"\"\"\n",
        "INSERT INTO employee VALUES(?,?,?,?,?,?)\"\"\"\n",
        "\n",
        "# inserting multiple rows\n",
        "cursor.executemany(sql, employee_list)\n",
        "\n",
        "print(\"i have successfully inserted\", cursor.rowcount, \"records to the table.\")\n",
        "\n"
      ]
    },
    {
      "cell_type": "markdown",
      "id": "2ee27f50",
      "metadata": {
        "id": "2ee27f50"
      },
      "source": [
        "QUESTION 2: Write a query to get the ‘unique’ Position from employee table"
      ]
    },
    {
      "cell_type": "code",
      "execution_count": 4,
      "id": "3bd9e71c",
      "metadata": {
        "colab": {
          "base_uri": "https://localhost:8080/"
        },
        "id": "3bd9e71c",
        "outputId": "5c685f07-1d61-4d8b-b9f7-65d0d96c8199"
      },
      "outputs": [
        {
          "output_type": "stream",
          "name": "stdout",
          "text": [
            "positions selected successfully\n"
          ]
        }
      ],
      "source": [
        "sql = \"\"\"\n",
        "SELECT DISTINCT Position\n",
        "FROM employee\n",
        "\"\"\"\n",
        "result = cursor.execute(sql)\n",
        "print(\"positions selected successfully\")\n"
      ]
    },
    {
      "cell_type": "markdown",
      "id": "a1f08b16",
      "metadata": {
        "id": "a1f08b16"
      },
      "source": [
        "QUESTION 3: Write a query to get all employee details from the employee table, order by first_name, in descending order."
      ]
    },
    {
      "cell_type": "code",
      "execution_count": 5,
      "id": "acfda663",
      "metadata": {
        "colab": {
          "base_uri": "https://localhost:8080/"
        },
        "id": "acfda663",
        "outputId": "b4bfc90b-994b-4b64-f0bc-365480768bea"
      },
      "outputs": [
        {
          "output_type": "stream",
          "name": "stdout",
          "text": [
            "executed successfully\n"
          ]
        },
        {
          "output_type": "execute_result",
          "data": {
            "text/plain": [
              "[(13, 'Graves', 'Warren', 'Chief Of Staff', 193125, 2011),\n",
              " (7, 'GRAY', 'VINCENT', 'Mayor', 200000, 2005),\n",
              " (50, 'Rahman', 'Umar', 'Medical Officer (psychiatry)', 166370, 1996),\n",
              " (15, 'Jones', 'Tyler', 'Medical Officer Psych', 190550, 2008),\n",
              " (58, 'Bellamy', 'Terry', 'Director', 165000, 2008),\n",
              " (33, 'Gore', 'T', 'Medical Officer (psychiatry)', 172101, 2005),\n",
              " (35, 'Atdjian', 'Sylvia', 'Medical Officer (psychiatry)', 170938, 2007),\n",
              " (36, 'Zaidi', 'Syed', 'Medical Officer (psychiatry)', 170344, 2005),\n",
              " (52, 'Zaidi', 'Syed', 'Medical Officer General Practi', 165842, 1983),\n",
              " (55, 'Cordi', 'Stephen', 'Deputy Cfo Otr', 165162, 2008),\n",
              " (61, 'Altaf', 'Samia', 'Supervisor Medical Officer', 164800, 2010),\n",
              " (48, 'Akhtar', 'Saleha', 'Medical Officer (psychiatry)', 166995, 1988),\n",
              " (37, 'Sherron', 'Robert', 'Medical Officer (psychiatry)', 170344, 1991),\n",
              " (42, 'Mancini', 'Robert', 'Acting Director', 170000, 2004),\n",
              " (17, 'Eure', 'Philip', 'Executive Director', 188692, 2000),\n",
              " (25, 'Quander', 'Paul', 'Deputy Mayor', 185000, 2009),\n",
              " (19, 'Yadao', 'Nilda', 'Medical Officer (psychiatry)', 188027, 1987),\n",
              " (38, 'Johnson', 'Nicole', 'Medical Officer (psychiatry)', 170344, 2007),\n",
              " (9, 'Gandhi', 'Natwar', 'Chief Financial Officer', 199700, 1997),\n",
              " (40, 'Beers', 'Nathaniel', 'Deputy Superintendent', 170000, 2007),\n",
              " (44, 'Davenport', 'Nancy', 'Administrative Librarian', 167200, 2006),\n",
              " (59, 'West', 'Millicent', 'Director Homeland Sec & Ema', 165000, 2003),\n",
              " (30, 'Williamson', 'Michael', 'Deputy Director', 182000, 2011),\n",
              " (31, 'White', 'Mattie', 'Medical Officer (psychiatry)', 180604, 1989),\n",
              " (23, 'Farley', 'Mark', 'Vp Human Resources', 186911, 2008),\n",
              " (26, 'Louis', 'Marie', 'Chief Medical Examiner', 185000, 1985),\n",
              " (56, 'Mallory', 'Lisa', 'Acting Director', 165000, 2004),\n",
              " (41, 'Nuss', 'Laura', 'Director', 170000, 2007),\n",
              " (10, 'DUNCAN', 'LORETTA', 'Workers Compensation Recipient', 197808, 1984),\n",
              " (39, 'RUDA', 'LISA', 'Chief Of Staff', 170000, 2007),\n",
              " (32, 'Park', 'Kyung', 'Medical Officer (psychiatry)', 180604, 1987),\n",
              " (46, 'Stevens', 'KyleeAnn', 'Medical Officer (psychiatry)', 167051, 2008),\n",
              " (20, 'Ellerbe', 'Kenneth', 'Fire Chief', 187302, 2003),\n",
              " (47, 'Smothers', 'Kenneth', 'Medical Officer (psychiatry)', 166995, 1987),\n",
              " (53, 'Jackson', 'Kenneth', 'Assistant Fire Chief Srvs', 165306, 1982),\n",
              " (8, 'Marshall', 'Katherine', 'Medical Officer Psych', 200000, 2008),\n",
              " (62, 'Owens', 'Karen', 'Dental Officer', 164800, 1989),\n",
              " (16, 'BROWN', 'KWAME', 'Chairman', 190000, 2005),\n",
              " (3, 'HENDERSON', 'KAYATANYA', 'Superintendent Of Schools', 275000, 2007),\n",
              " (27, 'Pestane', 'Joseph', 'Medical Officer (medical Examiner)', 183892, 1997),\n",
              " (29, 'Morgan', 'Johnson', 'Sheila  Chief Investment Officer', 183677, 1991),\n",
              " (21, 'Ruland', 'Jeffrey', 'Dir Of The Ctr For Wf Str & Ec', 186911, 2009),\n",
              " (43, 'Wicker', 'Henry', 'Medical Officer Opthal', 168378, 1987),\n",
              " (60, 'Pappas', 'Gregory', 'Deputy Director', 164800, 2011),\n",
              " (11, 'Baxter', 'Graeme', 'Act Provost & Vp Acd Aff', 196257, 2008),\n",
              " (18, 'Cooper', 'Ginnie', 'Executive Director', 188044, 2006),\n",
              " (14, 'Stanchfield', 'Eric', 'Executive Director', 193125, 2007),\n",
              " (6, 'Ritchie', 'Elspeth', 'Medical Officer Psych', 206000, 2010),\n",
              " (12, 'Miramontes', 'David', 'Medical Director', 193125, 2011),\n",
              " (54, 'Berns', 'David', 'Dir Of Human Services', 165200, 2011),\n",
              " (22, 'Parker', 'Craig', 'General Counsel', 186911, 2009),\n",
              " (4, 'Lanier', 'Cathy', 'Chief', 230743, 1990),\n",
              " (28,\n",
              "  'Revercomb',\n",
              "  'Carolyn',\n",
              "  'Medical Officer (medical Examiner)',\n",
              "  183892,\n",
              "  2005),\n",
              " (57, 'Flowers', 'Brian', 'General Counsel', 165000, 1985),\n",
              " (5, 'Arons', 'Bernard', 'Medical Officer Psych', 206000, 2008),\n",
              " (51, 'Adewale', 'Benjamin', 'Medical Officer (psychiatry)', 166370, 1988),\n",
              " (24, 'Otero', 'Beatriz', 'Dep Mayor For Hlth & Hum Svcs', 185000, 2011),\n",
              " (34, 'LUDWIG', 'BENJAMIN', 'Workers Compensation Recipient', 171517, 1972),\n",
              " (49, 'Singh', 'Anjali', 'Medical Officer (psychiatry)', 166370, 1999),\n",
              " (1, 'Lew', 'Allen', 'City Administrator', 295000, 2004),\n",
              " (2, 'Sessoms', 'Allen', 'President', 295000, 2008),\n",
              " (45, 'Jaji', 'Abayomi', 'Medical Officer (psychiatry)', 167062, 2000)]"
            ]
          },
          "metadata": {},
          "execution_count": 5
        }
      ],
      "source": [
        "sql = \"\"\"SELECT * \n",
        "FROM employee \n",
        "ORDER BY First_name DESC\n",
        "\"\"\"\n",
        "\n",
        "result = cursor.execute(sql)\n",
        "print(\"executed successfully\")\n",
        "\n",
        "# To view the table:  \n",
        "result = cursor.fetchall()\n",
        "result"
      ]
    },
    {
      "cell_type": "markdown",
      "id": "906ab025",
      "metadata": {
        "id": "906ab025"
      },
      "source": [
        "QUESTION 4: Write a query that returns employees’ first_name, last_name and salary, for salary greater than 200,000."
      ]
    },
    {
      "cell_type": "code",
      "execution_count": 6,
      "id": "cc9aedd1",
      "metadata": {
        "colab": {
          "base_uri": "https://localhost:8080/"
        },
        "id": "cc9aedd1",
        "outputId": "23a27889-b240-4c2a-f198-672a209449a0"
      },
      "outputs": [
        {
          "output_type": "stream",
          "name": "stdout",
          "text": [
            "executed successfully\n"
          ]
        },
        {
          "output_type": "execute_result",
          "data": {
            "text/plain": [
              "[('Allen', 'Lew', 295000),\n",
              " ('Allen', 'Sessoms', 295000),\n",
              " ('KAYATANYA', 'HENDERSON', 275000),\n",
              " ('Cathy', 'Lanier', 230743),\n",
              " ('Bernard', 'Arons', 206000),\n",
              " ('Elspeth', 'Ritchie', 206000)]"
            ]
          },
          "metadata": {},
          "execution_count": 6
        }
      ],
      "source": [
        "sql = \"\"\"\n",
        "SELECT First_name,\n",
        "Last_name, \n",
        "Salary \n",
        "FROM employee \n",
        "WHERE Salary > 200000\n",
        "\"\"\"\n",
        "\n",
        "result = cursor.execute(sql)\n",
        "print(\"executed successfully\")\n",
        "\n",
        "# To view the table:  \n",
        "result = cursor.fetchall()\n",
        "result"
      ]
    },
    {
      "cell_type": "markdown",
      "id": "73b563e0",
      "metadata": {
        "id": "73b563e0"
      },
      "source": [
        "QUESTION 5: One of the employees whose first_name was RUDA got married and changed her last_name to Peter, write a query to effect this change on her last name, thereafter, write a query that returns all her details to enable you view the change made to her name"
      ]
    },
    {
      "cell_type": "code",
      "execution_count": 7,
      "id": "4d8ac472",
      "metadata": {
        "colab": {
          "base_uri": "https://localhost:8080/"
        },
        "id": "4d8ac472",
        "outputId": "94ce08c4-0d92-430e-97fc-5c2bac9f2a5c"
      },
      "outputs": [
        {
          "output_type": "stream",
          "name": "stdout",
          "text": [
            "updated\n",
            "success\n"
          ]
        },
        {
          "output_type": "execute_result",
          "data": {
            "text/plain": [
              "[(1, 'Lew', 'Allen', 'City Administrator', 295000, 2004),\n",
              " (2, 'Sessoms', 'Allen', 'President', 295000, 2008),\n",
              " (3, 'HENDERSON', 'KAYATANYA', 'Superintendent Of Schools', 275000, 2007),\n",
              " (4, 'Lanier', 'Cathy', 'Chief', 230743, 1990),\n",
              " (5, 'Arons', 'Bernard', 'Medical Officer Psych', 206000, 2008),\n",
              " (6, 'Ritchie', 'Elspeth', 'Medical Officer Psych', 206000, 2010),\n",
              " (7, 'GRAY', 'VINCENT', 'Mayor', 200000, 2005),\n",
              " (8, 'Marshall', 'Katherine', 'Medical Officer Psych', 200000, 2008),\n",
              " (9, 'Gandhi', 'Natwar', 'Chief Financial Officer', 199700, 1997),\n",
              " (10, 'DUNCAN', 'LORETTA', 'Workers Compensation Recipient', 197808, 1984),\n",
              " (11, 'Baxter', 'Graeme', 'Act Provost & Vp Acd Aff', 196257, 2008),\n",
              " (12, 'Miramontes', 'David', 'Medical Director', 193125, 2011),\n",
              " (13, 'Graves', 'Warren', 'Chief Of Staff', 193125, 2011),\n",
              " (14, 'Stanchfield', 'Eric', 'Executive Director', 193125, 2007),\n",
              " (15, 'Jones', 'Tyler', 'Medical Officer Psych', 190550, 2008),\n",
              " (16, 'BROWN', 'KWAME', 'Chairman', 190000, 2005),\n",
              " (17, 'Eure', 'Philip', 'Executive Director', 188692, 2000),\n",
              " (18, 'Cooper', 'Ginnie', 'Executive Director', 188044, 2006),\n",
              " (19, 'Yadao', 'Nilda', 'Medical Officer (psychiatry)', 188027, 1987),\n",
              " (20, 'Ellerbe', 'Kenneth', 'Fire Chief', 187302, 2003),\n",
              " (21, 'Ruland', 'Jeffrey', 'Dir Of The Ctr For Wf Str & Ec', 186911, 2009),\n",
              " (22, 'Parker', 'Craig', 'General Counsel', 186911, 2009),\n",
              " (23, 'Farley', 'Mark', 'Vp Human Resources', 186911, 2008),\n",
              " (24, 'Otero', 'Beatriz', 'Dep Mayor For Hlth & Hum Svcs', 185000, 2011),\n",
              " (25, 'Quander', 'Paul', 'Deputy Mayor', 185000, 2009),\n",
              " (26, 'Louis', 'Marie', 'Chief Medical Examiner', 185000, 1985),\n",
              " (27, 'Pestane', 'Joseph', 'Medical Officer (medical Examiner)', 183892, 1997),\n",
              " (28,\n",
              "  'Revercomb',\n",
              "  'Carolyn',\n",
              "  'Medical Officer (medical Examiner)',\n",
              "  183892,\n",
              "  2005),\n",
              " (29, 'Morgan', 'Johnson', 'Sheila  Chief Investment Officer', 183677, 1991),\n",
              " (30, 'Williamson', 'Michael', 'Deputy Director', 182000, 2011),\n",
              " (31, 'White', 'Mattie', 'Medical Officer (psychiatry)', 180604, 1989),\n",
              " (32, 'Park', 'Kyung', 'Medical Officer (psychiatry)', 180604, 1987),\n",
              " (33, 'Gore', 'T', 'Medical Officer (psychiatry)', 172101, 2005),\n",
              " (34, 'LUDWIG', 'BENJAMIN', 'Workers Compensation Recipient', 171517, 1972),\n",
              " (35, 'Atdjian', 'Sylvia', 'Medical Officer (psychiatry)', 170938, 2007),\n",
              " (36, 'Zaidi', 'Syed', 'Medical Officer (psychiatry)', 170344, 2005),\n",
              " (37, 'Sherron', 'Robert', 'Medical Officer (psychiatry)', 170344, 1991),\n",
              " (38, 'Johnson', 'Nicole', 'Medical Officer (psychiatry)', 170344, 2007),\n",
              " (39, 'RUDA', 'Peter', 'Chief Of Staff', 170000, 2007),\n",
              " (40, 'Beers', 'Nathaniel', 'Deputy Superintendent', 170000, 2007),\n",
              " (41, 'Nuss', 'Laura', 'Director', 170000, 2007),\n",
              " (42, 'Mancini', 'Robert', 'Acting Director', 170000, 2004),\n",
              " (43, 'Wicker', 'Henry', 'Medical Officer Opthal', 168378, 1987),\n",
              " (44, 'Davenport', 'Nancy', 'Administrative Librarian', 167200, 2006),\n",
              " (45, 'Jaji', 'Abayomi', 'Medical Officer (psychiatry)', 167062, 2000),\n",
              " (46, 'Stevens', 'KyleeAnn', 'Medical Officer (psychiatry)', 167051, 2008),\n",
              " (47, 'Smothers', 'Kenneth', 'Medical Officer (psychiatry)', 166995, 1987),\n",
              " (48, 'Akhtar', 'Saleha', 'Medical Officer (psychiatry)', 166995, 1988),\n",
              " (49, 'Singh', 'Anjali', 'Medical Officer (psychiatry)', 166370, 1999),\n",
              " (50, 'Rahman', 'Umar', 'Medical Officer (psychiatry)', 166370, 1996),\n",
              " (51, 'Adewale', 'Benjamin', 'Medical Officer (psychiatry)', 166370, 1988),\n",
              " (52, 'Zaidi', 'Syed', 'Medical Officer General Practi', 165842, 1983),\n",
              " (53, 'Jackson', 'Kenneth', 'Assistant Fire Chief Srvs', 165306, 1982),\n",
              " (54, 'Berns', 'David', 'Dir Of Human Services', 165200, 2011),\n",
              " (55, 'Cordi', 'Stephen', 'Deputy Cfo Otr', 165162, 2008),\n",
              " (56, 'Mallory', 'Lisa', 'Acting Director', 165000, 2004),\n",
              " (57, 'Flowers', 'Brian', 'General Counsel', 165000, 1985),\n",
              " (58, 'Bellamy', 'Terry', 'Director', 165000, 2008),\n",
              " (59, 'West', 'Millicent', 'Director Homeland Sec & Ema', 165000, 2003),\n",
              " (60, 'Pappas', 'Gregory', 'Deputy Director', 164800, 2011),\n",
              " (61, 'Altaf', 'Samia', 'Supervisor Medical Officer', 164800, 2010),\n",
              " (62, 'Owens', 'Karen', 'Dental Officer', 164800, 1989)]"
            ]
          },
          "metadata": {},
          "execution_count": 7
        }
      ],
      "source": [
        "sql = \"\"\"\n",
        "UPDATE employee\n",
        "SET First_name =\"Peter\"\n",
        "WHERE Last_name =\"RUDA\"\n",
        "\"\"\"\n",
        "cursor.execute(sql)\n",
        "print(\"updated\")\n",
        "\n",
        "# to view modified table with changes\n",
        "sql = \"\"\"\n",
        "SELECT *\n",
        "FROM employee\n",
        "\"\"\"\n",
        "result = cursor.execute(sql)\n",
        "print(\"success\")\n",
        "\n",
        "result = [i for i in cursor.fetchall()]\n",
        "result\n"
      ]
    },
    {
      "cell_type": "markdown",
      "id": "32c5f7aa",
      "metadata": {
        "id": "32c5f7aa"
      },
      "source": [
        "QUESTION 6: One of the employees with last_name ‘KWAME’ left the organization for another job, write a query that removes his name from the database. View the whole table by writing another query to verify the change that was made to the employee."
      ]
    },
    {
      "cell_type": "code",
      "execution_count": 8,
      "id": "3094a2ed",
      "metadata": {
        "colab": {
          "base_uri": "https://localhost:8080/"
        },
        "id": "3094a2ed",
        "outputId": "b504915f-81b2-4634-982f-01fcdddf963e"
      },
      "outputs": [
        {
          "output_type": "stream",
          "name": "stdout",
          "text": [
            "removed\n",
            "success\n"
          ]
        },
        {
          "output_type": "execute_result",
          "data": {
            "text/plain": [
              "[(1, 'Lew', 'Allen', 'City Administrator', 295000, 2004),\n",
              " (2, 'Sessoms', 'Allen', 'President', 295000, 2008),\n",
              " (3, 'HENDERSON', 'KAYATANYA', 'Superintendent Of Schools', 275000, 2007),\n",
              " (4, 'Lanier', 'Cathy', 'Chief', 230743, 1990),\n",
              " (5, 'Arons', 'Bernard', 'Medical Officer Psych', 206000, 2008),\n",
              " (6, 'Ritchie', 'Elspeth', 'Medical Officer Psych', 206000, 2010),\n",
              " (7, 'GRAY', 'VINCENT', 'Mayor', 200000, 2005),\n",
              " (8, 'Marshall', 'Katherine', 'Medical Officer Psych', 200000, 2008),\n",
              " (9, 'Gandhi', 'Natwar', 'Chief Financial Officer', 199700, 1997),\n",
              " (10, 'DUNCAN', 'LORETTA', 'Workers Compensation Recipient', 197808, 1984),\n",
              " (11, 'Baxter', 'Graeme', 'Act Provost & Vp Acd Aff', 196257, 2008),\n",
              " (12, 'Miramontes', 'David', 'Medical Director', 193125, 2011),\n",
              " (13, 'Graves', 'Warren', 'Chief Of Staff', 193125, 2011),\n",
              " (14, 'Stanchfield', 'Eric', 'Executive Director', 193125, 2007),\n",
              " (15, 'Jones', 'Tyler', 'Medical Officer Psych', 190550, 2008),\n",
              " (17, 'Eure', 'Philip', 'Executive Director', 188692, 2000),\n",
              " (18, 'Cooper', 'Ginnie', 'Executive Director', 188044, 2006),\n",
              " (19, 'Yadao', 'Nilda', 'Medical Officer (psychiatry)', 188027, 1987),\n",
              " (20, 'Ellerbe', 'Kenneth', 'Fire Chief', 187302, 2003),\n",
              " (21, 'Ruland', 'Jeffrey', 'Dir Of The Ctr For Wf Str & Ec', 186911, 2009),\n",
              " (22, 'Parker', 'Craig', 'General Counsel', 186911, 2009),\n",
              " (23, 'Farley', 'Mark', 'Vp Human Resources', 186911, 2008),\n",
              " (24, 'Otero', 'Beatriz', 'Dep Mayor For Hlth & Hum Svcs', 185000, 2011),\n",
              " (25, 'Quander', 'Paul', 'Deputy Mayor', 185000, 2009),\n",
              " (26, 'Louis', 'Marie', 'Chief Medical Examiner', 185000, 1985),\n",
              " (27, 'Pestane', 'Joseph', 'Medical Officer (medical Examiner)', 183892, 1997),\n",
              " (28,\n",
              "  'Revercomb',\n",
              "  'Carolyn',\n",
              "  'Medical Officer (medical Examiner)',\n",
              "  183892,\n",
              "  2005),\n",
              " (29, 'Morgan', 'Johnson', 'Sheila  Chief Investment Officer', 183677, 1991),\n",
              " (30, 'Williamson', 'Michael', 'Deputy Director', 182000, 2011),\n",
              " (31, 'White', 'Mattie', 'Medical Officer (psychiatry)', 180604, 1989),\n",
              " (32, 'Park', 'Kyung', 'Medical Officer (psychiatry)', 180604, 1987),\n",
              " (33, 'Gore', 'T', 'Medical Officer (psychiatry)', 172101, 2005),\n",
              " (34, 'LUDWIG', 'BENJAMIN', 'Workers Compensation Recipient', 171517, 1972),\n",
              " (35, 'Atdjian', 'Sylvia', 'Medical Officer (psychiatry)', 170938, 2007),\n",
              " (36, 'Zaidi', 'Syed', 'Medical Officer (psychiatry)', 170344, 2005),\n",
              " (37, 'Sherron', 'Robert', 'Medical Officer (psychiatry)', 170344, 1991),\n",
              " (38, 'Johnson', 'Nicole', 'Medical Officer (psychiatry)', 170344, 2007),\n",
              " (39, 'RUDA', 'Peter', 'Chief Of Staff', 170000, 2007),\n",
              " (40, 'Beers', 'Nathaniel', 'Deputy Superintendent', 170000, 2007),\n",
              " (41, 'Nuss', 'Laura', 'Director', 170000, 2007),\n",
              " (42, 'Mancini', 'Robert', 'Acting Director', 170000, 2004),\n",
              " (43, 'Wicker', 'Henry', 'Medical Officer Opthal', 168378, 1987),\n",
              " (44, 'Davenport', 'Nancy', 'Administrative Librarian', 167200, 2006),\n",
              " (45, 'Jaji', 'Abayomi', 'Medical Officer (psychiatry)', 167062, 2000),\n",
              " (46, 'Stevens', 'KyleeAnn', 'Medical Officer (psychiatry)', 167051, 2008),\n",
              " (47, 'Smothers', 'Kenneth', 'Medical Officer (psychiatry)', 166995, 1987),\n",
              " (48, 'Akhtar', 'Saleha', 'Medical Officer (psychiatry)', 166995, 1988),\n",
              " (49, 'Singh', 'Anjali', 'Medical Officer (psychiatry)', 166370, 1999),\n",
              " (50, 'Rahman', 'Umar', 'Medical Officer (psychiatry)', 166370, 1996),\n",
              " (51, 'Adewale', 'Benjamin', 'Medical Officer (psychiatry)', 166370, 1988),\n",
              " (52, 'Zaidi', 'Syed', 'Medical Officer General Practi', 165842, 1983),\n",
              " (53, 'Jackson', 'Kenneth', 'Assistant Fire Chief Srvs', 165306, 1982),\n",
              " (54, 'Berns', 'David', 'Dir Of Human Services', 165200, 2011),\n",
              " (55, 'Cordi', 'Stephen', 'Deputy Cfo Otr', 165162, 2008),\n",
              " (56, 'Mallory', 'Lisa', 'Acting Director', 165000, 2004),\n",
              " (57, 'Flowers', 'Brian', 'General Counsel', 165000, 1985),\n",
              " (58, 'Bellamy', 'Terry', 'Director', 165000, 2008),\n",
              " (59, 'West', 'Millicent', 'Director Homeland Sec & Ema', 165000, 2003),\n",
              " (60, 'Pappas', 'Gregory', 'Deputy Director', 164800, 2011),\n",
              " (61, 'Altaf', 'Samia', 'Supervisor Medical Officer', 164800, 2010),\n",
              " (62, 'Owens', 'Karen', 'Dental Officer', 164800, 1989)]"
            ]
          },
          "metadata": {},
          "execution_count": 8
        }
      ],
      "source": [
        "sql = \"\"\"\n",
        "DELETE FROM employee \n",
        "WHERE First_name=\"KWAME\"\n",
        "\"\"\"\n",
        "result = cursor.execute(sql)\n",
        "print(\"removed\")\n",
        "\n",
        "# to view modified table with changes\n",
        "sql = \"\"\"\n",
        "SELECT *\n",
        "FROM employee\n",
        "\"\"\"\n",
        "result = cursor.execute(sql)\n",
        "print(\"success\")\n",
        "\n",
        "result = [i for i in cursor.fetchall()]\n",
        "result"
      ]
    },
    {
      "cell_type": "markdown",
      "id": "4a0ee5fe",
      "metadata": {
        "id": "4a0ee5fe"
      },
      "source": [
        "QUESTION 7: Write a query that renames the column “Position” to “job_role”"
      ]
    },
    {
      "cell_type": "code",
      "execution_count": 22,
      "id": "14bef120",
      "metadata": {
        "colab": {
          "base_uri": "https://localhost:8080/",
          "height": 235
        },
        "id": "14bef120",
        "outputId": "460e989e-8dce-4d17-f2c8-96c32b86715a"
      },
      "outputs": [
        {
          "output_type": "error",
          "ename": "OperationalError",
          "evalue": "ignored",
          "traceback": [
            "\u001b[0;31m---------------------------------------------------------------------------\u001b[0m",
            "\u001b[0;31mOperationalError\u001b[0m                          Traceback (most recent call last)",
            "\u001b[0;32m<ipython-input-22-780c09acae9c>\u001b[0m in \u001b[0;36m<module>\u001b[0;34m\u001b[0m\n\u001b[1;32m      3\u001b[0m \u001b[0mRENAME\u001b[0m \u001b[0mCOLUMN\u001b[0m \u001b[0mPosition\u001b[0m \u001b[0mTO\u001b[0m \u001b[0mjob_role\u001b[0m\u001b[0;34m\u001b[0m\u001b[0;34m\u001b[0m\u001b[0m\n\u001b[1;32m      4\u001b[0m \"\"\"\n\u001b[0;32m----> 5\u001b[0;31m \u001b[0mresult\u001b[0m \u001b[0;34m=\u001b[0m \u001b[0mcursor\u001b[0m\u001b[0;34m.\u001b[0m\u001b[0mexecute\u001b[0m\u001b[0;34m(\u001b[0m\u001b[0msql\u001b[0m\u001b[0;34m)\u001b[0m\u001b[0;34m\u001b[0m\u001b[0;34m\u001b[0m\u001b[0m\n\u001b[0m\u001b[1;32m      6\u001b[0m \u001b[0;34m\u001b[0m\u001b[0m\n\u001b[1;32m      7\u001b[0m \u001b[0mprint\u001b[0m\u001b[0;34m(\u001b[0m\u001b[0;34m\"renamed\"\u001b[0m\u001b[0;34m)\u001b[0m\u001b[0;34m\u001b[0m\u001b[0;34m\u001b[0m\u001b[0m\n",
            "\u001b[0;31mOperationalError\u001b[0m: near \"COLUMN\": syntax error"
          ]
        }
      ],
      "source": [
        "sql = \"\"\"\n",
        "ALTER TABLE employee\n",
        "RENAME COLUMN Position TO job_role\n",
        "\"\"\"\n",
        "cursor.execute(sql)\n",
        "\n",
        "print(\"renamed\")\n"
      ]
    },
    {
      "cell_type": "markdown",
      "id": "afb59c0d",
      "metadata": {
        "id": "afb59c0d"
      },
      "source": [
        "QUESTION 8: Write a query to get the employee_id, (first_name, last_name), salary in ascending order of salary. Alias the first_name and last_name as “Name”."
      ]
    },
    {
      "cell_type": "code",
      "execution_count": 18,
      "id": "12fd4f0f",
      "metadata": {
        "colab": {
          "base_uri": "https://localhost:8080/"
        },
        "id": "12fd4f0f",
        "outputId": "40f72d0e-4ed6-41b6-9fd9-60a69403d4e0"
      },
      "outputs": [
        {
          "output_type": "stream",
          "name": "stdout",
          "text": [
            "success\n"
          ]
        },
        {
          "output_type": "execute_result",
          "data": {
            "text/plain": [
              "[(60, 'Gregory', 'Pappas', 164800),\n",
              " (61, 'Samia', 'Altaf', 164800),\n",
              " (62, 'Karen', 'Owens', 164800),\n",
              " (56, 'Lisa', 'Mallory', 165000),\n",
              " (57, 'Brian', 'Flowers', 165000),\n",
              " (58, 'Terry', 'Bellamy', 165000),\n",
              " (59, 'Millicent', 'West', 165000),\n",
              " (55, 'Stephen', 'Cordi', 165162),\n",
              " (54, 'David', 'Berns', 165200),\n",
              " (53, 'Kenneth', 'Jackson', 165306),\n",
              " (52, 'Syed', 'Zaidi', 165842),\n",
              " (49, 'Anjali', 'Singh', 166370),\n",
              " (50, 'Umar', 'Rahman', 166370),\n",
              " (51, 'Benjamin', 'Adewale', 166370),\n",
              " (47, 'Kenneth', 'Smothers', 166995),\n",
              " (48, 'Saleha', 'Akhtar', 166995),\n",
              " (46, 'KyleeAnn', 'Stevens', 167051),\n",
              " (45, 'Abayomi', 'Jaji', 167062),\n",
              " (44, 'Nancy', 'Davenport', 167200),\n",
              " (43, 'Henry', 'Wicker', 168378),\n",
              " (39, 'Peter', 'RUDA', 170000),\n",
              " (40, 'Nathaniel', 'Beers', 170000),\n",
              " (41, 'Laura', 'Nuss', 170000),\n",
              " (42, 'Robert', 'Mancini', 170000),\n",
              " (36, 'Syed', 'Zaidi', 170344),\n",
              " (37, 'Robert', 'Sherron', 170344),\n",
              " (38, 'Nicole', 'Johnson', 170344),\n",
              " (35, 'Sylvia', 'Atdjian', 170938),\n",
              " (34, 'BENJAMIN', 'LUDWIG', 171517),\n",
              " (33, 'T', 'Gore', 172101),\n",
              " (31, 'Mattie', 'White', 180604),\n",
              " (32, 'Kyung', 'Park', 180604),\n",
              " (30, 'Michael', 'Williamson', 182000),\n",
              " (29, 'Johnson', 'Morgan', 183677),\n",
              " (27, 'Joseph', 'Pestane', 183892),\n",
              " (28, 'Carolyn', 'Revercomb', 183892),\n",
              " (24, 'Beatriz', 'Otero', 185000),\n",
              " (25, 'Paul', 'Quander', 185000),\n",
              " (26, 'Marie', 'Louis', 185000),\n",
              " (21, 'Jeffrey', 'Ruland', 186911),\n",
              " (22, 'Craig', 'Parker', 186911),\n",
              " (23, 'Mark', 'Farley', 186911),\n",
              " (20, 'Kenneth', 'Ellerbe', 187302),\n",
              " (19, 'Nilda', 'Yadao', 188027),\n",
              " (18, 'Ginnie', 'Cooper', 188044),\n",
              " (17, 'Philip', 'Eure', 188692),\n",
              " (15, 'Tyler', 'Jones', 190550),\n",
              " (12, 'David', 'Miramontes', 193125),\n",
              " (13, 'Warren', 'Graves', 193125),\n",
              " (14, 'Eric', 'Stanchfield', 193125),\n",
              " (11, 'Graeme', 'Baxter', 196257),\n",
              " (10, 'LORETTA', 'DUNCAN', 197808),\n",
              " (9, 'Natwar', 'Gandhi', 199700),\n",
              " (7, 'VINCENT', 'GRAY', 200000),\n",
              " (8, 'Katherine', 'Marshall', 200000),\n",
              " (5, 'Bernard', 'Arons', 206000),\n",
              " (6, 'Elspeth', 'Ritchie', 206000),\n",
              " (4, 'Cathy', 'Lanier', 230743),\n",
              " (3, 'KAYATANYA', 'HENDERSON', 275000),\n",
              " (1, 'Allen', 'Lew', 295000),\n",
              " (2, 'Allen', 'Sessoms', 295000)]"
            ]
          },
          "metadata": {},
          "execution_count": 18
        }
      ],
      "source": [
        "sql = \"\"\"\n",
        "SELECT Employee_id,First_name,Last_name,Salary\n",
        "FROM employee\n",
        "ORDER BY Salary ASC\n",
        "\"\"\"\n",
        "cursor.execute(sql)\n",
        "print(\"success\")\n",
        "\n",
        "# to view output\n",
        "result = cursor.fetchall()\n",
        "result\n",
        "\n"
      ]
    },
    {
      "cell_type": "code",
      "source": [
        "# alias first and last name using name\n",
        "sql = \"\"\"\n",
        "SELECT First_name \"Name\", Last_name \"Name\"\n",
        "FROM employee\n",
        "\"\"\"\n",
        "cursor.execute(sql)\n",
        "print(\"alias\")\n",
        "\n",
        "result = cursor.fetchall()\n",
        "result"
      ],
      "metadata": {
        "colab": {
          "base_uri": "https://localhost:8080/"
        },
        "id": "eybTnKHbLN4I",
        "outputId": "968bf075-98c0-46fd-b51d-5d0d7c8d4465"
      },
      "id": "eybTnKHbLN4I",
      "execution_count": 17,
      "outputs": [
        {
          "output_type": "stream",
          "name": "stdout",
          "text": [
            "alias\n"
          ]
        },
        {
          "output_type": "execute_result",
          "data": {
            "text/plain": [
              "[('Allen', 'Lew'),\n",
              " ('Allen', 'Sessoms'),\n",
              " ('KAYATANYA', 'HENDERSON'),\n",
              " ('Cathy', 'Lanier'),\n",
              " ('Bernard', 'Arons'),\n",
              " ('Elspeth', 'Ritchie'),\n",
              " ('VINCENT', 'GRAY'),\n",
              " ('Katherine', 'Marshall'),\n",
              " ('Natwar', 'Gandhi'),\n",
              " ('LORETTA', 'DUNCAN'),\n",
              " ('Graeme', 'Baxter'),\n",
              " ('David', 'Miramontes'),\n",
              " ('Warren', 'Graves'),\n",
              " ('Eric', 'Stanchfield'),\n",
              " ('Tyler', 'Jones'),\n",
              " ('Philip', 'Eure'),\n",
              " ('Ginnie', 'Cooper'),\n",
              " ('Nilda', 'Yadao'),\n",
              " ('Kenneth', 'Ellerbe'),\n",
              " ('Jeffrey', 'Ruland'),\n",
              " ('Craig', 'Parker'),\n",
              " ('Mark', 'Farley'),\n",
              " ('Beatriz', 'Otero'),\n",
              " ('Paul', 'Quander'),\n",
              " ('Marie', 'Louis'),\n",
              " ('Joseph', 'Pestane'),\n",
              " ('Carolyn', 'Revercomb'),\n",
              " ('Johnson', 'Morgan'),\n",
              " ('Michael', 'Williamson'),\n",
              " ('Mattie', 'White'),\n",
              " ('Kyung', 'Park'),\n",
              " ('T', 'Gore'),\n",
              " ('BENJAMIN', 'LUDWIG'),\n",
              " ('Sylvia', 'Atdjian'),\n",
              " ('Syed', 'Zaidi'),\n",
              " ('Robert', 'Sherron'),\n",
              " ('Nicole', 'Johnson'),\n",
              " ('Peter', 'RUDA'),\n",
              " ('Nathaniel', 'Beers'),\n",
              " ('Laura', 'Nuss'),\n",
              " ('Robert', 'Mancini'),\n",
              " ('Henry', 'Wicker'),\n",
              " ('Nancy', 'Davenport'),\n",
              " ('Abayomi', 'Jaji'),\n",
              " ('KyleeAnn', 'Stevens'),\n",
              " ('Kenneth', 'Smothers'),\n",
              " ('Saleha', 'Akhtar'),\n",
              " ('Anjali', 'Singh'),\n",
              " ('Umar', 'Rahman'),\n",
              " ('Benjamin', 'Adewale'),\n",
              " ('Syed', 'Zaidi'),\n",
              " ('Kenneth', 'Jackson'),\n",
              " ('David', 'Berns'),\n",
              " ('Stephen', 'Cordi'),\n",
              " ('Lisa', 'Mallory'),\n",
              " ('Brian', 'Flowers'),\n",
              " ('Terry', 'Bellamy'),\n",
              " ('Millicent', 'West'),\n",
              " ('Gregory', 'Pappas'),\n",
              " ('Samia', 'Altaf'),\n",
              " ('Karen', 'Owens')]"
            ]
          },
          "metadata": {},
          "execution_count": 17
        }
      ]
    },
    {
      "cell_type": "markdown",
      "id": "321e79f9",
      "metadata": {
        "id": "321e79f9"
      },
      "source": [
        "QUESTION 9: Write a query that gives the count of employees whose salaries are greater than 200,000. [Hint: Use the “COUNT” clause]"
      ]
    },
    {
      "cell_type": "code",
      "execution_count": 23,
      "id": "c5706e4c",
      "metadata": {
        "colab": {
          "base_uri": "https://localhost:8080/"
        },
        "id": "c5706e4c",
        "outputId": "4a59c8c3-6a67-473b-b856-e8bca6dfc5ba"
      },
      "outputs": [
        {
          "output_type": "stream",
          "name": "stdout",
          "text": [
            "counted\n"
          ]
        },
        {
          "output_type": "execute_result",
          "data": {
            "text/plain": [
              "[(6,)]"
            ]
          },
          "metadata": {},
          "execution_count": 23
        }
      ],
      "source": [
        "sql =\"\"\"\n",
        "SELECT COUNT(*)\n",
        "FROM employee\n",
        "WHERE Salary > 200000\n",
        "\"\"\"\n",
        "result = cursor.execute(sql)\n",
        "print(\"counted\")\n",
        "\n",
        "# To view the table:  \n",
        "result = cursor.fetchall()\n",
        "result"
      ]
    },
    {
      "cell_type": "markdown",
      "id": "46397301",
      "metadata": {
        "id": "46397301"
      },
      "source": [
        "QUESTION 10: Write a query to get the maximum and minimum salary from the employees table. [Hint: Use the MAX, MIN functions]"
      ]
    },
    {
      "cell_type": "code",
      "execution_count": 24,
      "id": "bb03a99a",
      "metadata": {
        "colab": {
          "base_uri": "https://localhost:8080/"
        },
        "id": "bb03a99a",
        "outputId": "bae63e97-cc1e-4708-86e6-7bdaa87e6223"
      },
      "outputs": [
        {
          "output_type": "stream",
          "name": "stdout",
          "text": [
            "max and min gotten\n"
          ]
        },
        {
          "output_type": "execute_result",
          "data": {
            "text/plain": [
              "[(295000, 164800)]"
            ]
          },
          "metadata": {},
          "execution_count": 24
        }
      ],
      "source": [
        "sql = \"\"\"\n",
        "SELECT MAX(Salary), MIN(Salary)\n",
        "FROM employee\n",
        "\"\"\"\n",
        "result = cursor.execute(sql)\n",
        "print(\"max and min gotten\")\n",
        "\n",
        "# To view the table:  \n",
        "result = cursor.fetchall()\n",
        "result"
      ]
    }
  ],
  "metadata": {
    "kernelspec": {
      "display_name": "Python 3 (ipykernel)",
      "language": "python",
      "name": "python3"
    },
    "language_info": {
      "codemirror_mode": {
        "name": "ipython",
        "version": 3
      },
      "file_extension": ".py",
      "mimetype": "text/x-python",
      "name": "python",
      "nbconvert_exporter": "python",
      "pygments_lexer": "ipython3",
      "version": "3.9.12"
    },
    "colab": {
      "provenance": [],
      "collapsed_sections": [],
      "include_colab_link": true
    }
  },
  "nbformat": 4,
  "nbformat_minor": 5
}